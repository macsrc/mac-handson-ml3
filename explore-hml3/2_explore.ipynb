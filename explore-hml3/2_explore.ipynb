{
 "cells": [
  {
   "cell_type": "markdown",
   "id": "a64b95e8",
   "metadata": {},
   "source": [
    "## Hands-On Machine Learning v3 - Exploration"
   ]
  },
  {
   "cell_type": "code",
   "execution_count": 1,
   "id": "85f00e24",
   "metadata": {},
   "outputs": [
    {
     "name": "stdout",
     "output_type": "stream",
     "text": [
      "Welcome to exploration of Chapter 02\n"
     ]
    }
   ],
   "source": [
    "print(\"Welcome to exploration of Chapter 02\")"
   ]
  },
  {
   "cell_type": "code",
   "execution_count": null,
   "id": "c743cdf7",
   "metadata": {},
   "outputs": [],
   "source": []
  }
 ],
 "metadata": {
  "kernelspec": {
   "display_name": "base",
   "language": "python",
   "name": "python3"
  },
  "language_info": {
   "codemirror_mode": {
    "name": "ipython",
    "version": 3
   },
   "file_extension": ".py",
   "mimetype": "text/x-python",
   "name": "python",
   "nbconvert_exporter": "python",
   "pygments_lexer": "ipython3",
   "version": "3.13.5"
  }
 },
 "nbformat": 4,
 "nbformat_minor": 5
}
