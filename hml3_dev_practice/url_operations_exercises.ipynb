{
 "cells": [
  {
   "cell_type": "markdown",
   "id": "a312c05d",
   "metadata": {},
   "source": [
    "# URL Operations - Learning Exercises\n",
    "\n",
    "This notebook contains step-by-step exercises to practice working with URLs in Python using `urllib`, `requests`, and related libraries.\n",
    "\n",
    "Fill in the code cells as instructed.\n"
   ]
  },
  {
   "cell_type": "markdown",
   "id": "a75fca92",
   "metadata": {},
   "source": [
    "## Exercise 1: Parse a URL\n",
    "Parse the URL `'https://example.com/search?q=python&sort=asc'` and print:\n",
    "- Scheme\n",
    "- Netloc\n",
    "- Path\n",
    "- Query string"
   ]
  },
  {
   "cell_type": "code",
   "execution_count": 31,
   "id": "bca48d3f",
   "metadata": {},
   "outputs": [
    {
     "name": "stdout",
     "output_type": "stream",
     "text": [
      "https\n",
      "example.com\n",
      "/search\n",
      "q=python&sort=asc\n",
      "section2\n"
     ]
    }
   ],
   "source": [
    "from urllib.parse import urlparse, parse_qs\n",
    "\n",
    "url = 'https://example.com/search?q=python&sort=asc#section2'\n",
    "\n",
    "# Your code here\n",
    "parsed = urlparse(url)\n",
    "\n",
    "print(parsed.scheme)\n",
    "print(parsed.netloc)\n",
    "print(parsed.path)\n",
    "print(parsed.query)\n",
    "print(parsed.fragment)\n",
    "##\n",
    "# print(parse_qs(parsed.query))  # parameters\n"
   ]
  },
  {
   "cell_type": "code",
   "execution_count": 32,
   "id": "c3180863",
   "metadata": {},
   "outputs": [
    {
     "name": "stdout",
     "output_type": "stream",
     "text": [
      "Scheme   : https\n",
      "Netloc   : example.com:8080\n",
      "Path     : /products/list\n",
      "Params   : view\n",
      "Query    : category=books&sort=asc\n",
      "Fragment : reviews\n",
      "Query Params (dict): {'category': ['books'], 'sort': ['asc']}\n",
      "Domain and Port are : example.com and 8080\n"
     ]
    }
   ],
   "source": [
    "## Parse for all six structures - <scheme>://<netloc>/<path>;<params>?<query>#<fragment>\n",
    "\n",
    "from urllib.parse import urlparse, parse_qs\n",
    "\n",
    "url = \"https://example.com:8080/products/list;view?category=books&sort=asc#reviews\"\n",
    "\n",
    "# Parse URL\n",
    "parsed = urlparse(url)\n",
    "\n",
    "print(\"Scheme   :\", parsed.scheme)\n",
    "print(\"Netloc   :\", parsed.netloc)\n",
    "print(\"Path     :\", parsed.path)\n",
    "print(\"Params   :\", parsed.params)\n",
    "print(\"Query    :\", parsed.query)\n",
    "print(\"Fragment :\", parsed.fragment)\n",
    "\n",
    "# Convert query string into dictionary\n",
    "params = parse_qs(parsed.query)\n",
    "print(\"Query Params (dict):\", params)\n",
    "\n",
    "# Extract hostname and port\n",
    "domain = parsed.hostname\n",
    "port = parsed.port\n",
    "\n",
    "print(\"Domain and Port are :\", domain,\"and\" ,port)\n"
   ]
  },
  {
   "cell_type": "markdown",
   "id": "d94ff279",
   "metadata": {},
   "source": [
    "## Exercise 2: Construct a URL\n",
    "Construct a URL from the following parts:\n",
    "- Scheme: `https`\n",
    "- Domain: `openai.com`\n",
    "- Path: `research`\n",
    "- Query: `topic=ml`"
   ]
  },
  {
   "cell_type": "code",
   "execution_count": null,
   "id": "2cf137ee",
   "metadata": {},
   "outputs": [
    {
     "name": "stdout",
     "output_type": "stream",
     "text": [
      "https://openai.com/research?topic=ml#fragment_data\n"
     ]
    }
   ],
   "source": [
    "# Construct for all 6 parts - \n",
    "#   <scheme>://<netloc>/<path>;<params>?<query>#<fragment>\n",
    "from urllib.parse import urlunparse\n",
    "\n",
    "# Parts of a URL\n",
    "scheme = \"https\"\n",
    "netloc = \"example.com:8080\"\n",
    "path = \"products/list\"\n",
    "params = \"view\"\n",
    "query = \"category=books&sort=asc\"\n",
    "fragment = \"reviews\"\n",
    "\n",
    "# Construct URL\n",
    "url = urlunparse((scheme, netloc, path, params, query, fragment))\n",
    "\n",
    "print(url)\n"
   ]
  },
  {
   "cell_type": "code",
   "execution_count": 34,
   "id": "11da6b84",
   "metadata": {},
   "outputs": [
    {
     "name": "stdout",
     "output_type": "stream",
     "text": [
      "https://example.com:8080/products/list;view?category=books&sort=asc#reviews\n"
     ]
    }
   ],
   "source": [
    "# Construct using saperate hostname and port:  \n",
    "#   <scheme>://<netloc>/<path>;<params>?<query>#<fragment>\n",
    "from urllib.parse import urlunparse\n",
    "\n",
    "# Define parts\n",
    "scheme = \"https\"\n",
    "hostname = \"example.com\"\n",
    "port = 8080\n",
    "netloc = f\"{hostname}:{port}\"   # combine hostname and port\n",
    "\n",
    "path = \"products/list\"\n",
    "params = \"view\"\n",
    "query = \"category=books&sort=asc\"\n",
    "fragment = \"reviews\"\n",
    "\n",
    "# Construct URL\n",
    "url = urlunparse((scheme, netloc, path, params, query, fragment))\n",
    "print(url)\n",
    "\n"
   ]
  },
  {
   "cell_type": "markdown",
   "id": "7dea41d3",
   "metadata": {},
   "source": [
    "## Exercise 3: Encode & Decode Query Parameters\n",
    "Use `urllib.parse.urlencode` to encode a dictionary into a query string, then decode it back using `parse_qs`."
   ]
  },
  {
   "cell_type": "code",
   "execution_count": 35,
   "id": "ebb20e23",
   "metadata": {},
   "outputs": [
    {
     "name": "stdout",
     "output_type": "stream",
     "text": [
      "name=Alice&age=25\n",
      "{'name': ['Alice'], 'age': ['25']}\n"
     ]
    }
   ],
   "source": [
    "from urllib.parse import urlencode, parse_qs\n",
    "\n",
    "params = {'name': 'Alice', 'age': 25}\n",
    "# Your code here\n",
    "query_string = urlencode(params)\n",
    "print(query_string)\n",
    "\n",
    "decoded = parse_qs(query_string)\n",
    "print(decoded)"
   ]
  },
  {
   "cell_type": "markdown",
   "id": "e2f3d353",
   "metadata": {},
   "source": [
    "## Exercise 4: Fetch HTML Content\n",
    "Fetch content from `https://httpbin.org/html` and print:\n",
    "- Status code\n",
    "- First 200 characters of the response"
   ]
  },
  {
   "cell_type": "code",
   "execution_count": 39,
   "id": "cfa3fa56",
   "metadata": {},
   "outputs": [
    {
     "name": "stdout",
     "output_type": "stream",
     "text": [
      "Status code:  200\n",
      "Content preview:  <!DOCTYPE html>\n",
      "<html>\n",
      "  <head>\n",
      "  </head>\n",
      "  <body>\n",
      "      <h1>Herman Melville - Moby-Dick</h1>\n",
      "\n",
      "      <div>\n",
      "        <p>\n",
      "          Availing himself of the mild, summer-cool weather that now reigned in t\n"
     ]
    }
   ],
   "source": [
    "import requests\n",
    "\n",
    "url = 'https://httpbin.org/html'\n",
    "# Your code here\n",
    "\n",
    "response = requests.get(url)\n",
    "\n",
    "print(\"Status code: \", response.status_code)\n",
    "\n",
    "print(\"Content preview: \", response.text[:200])"
   ]
  },
  {
   "cell_type": "markdown",
   "id": "b0c781f6",
   "metadata": {},
   "source": [
    "## Exercise 5: GET Request with Parameters\n",
    "Make a GET request to `https://httpbin.org/get` with parameters `name=John`, `age=30`."
   ]
  },
  {
   "cell_type": "code",
   "execution_count": null,
   "id": "90a84652",
   "metadata": {},
   "outputs": [
    {
     "name": "stdout",
     "output_type": "stream",
     "text": [
      "Status code:  200\n",
      "Final URL: https://httpbin.org/get?name=John&age=30\n",
      "Response JSON:  {'args': {'age': '30', 'name': 'John'}, 'headers': {'Accept': '*/*', 'Accept-Encoding': 'gzip, deflate, br, zstd', 'Host': 'httpbin.org', 'User-Agent': 'python-requests/2.32.3', 'X-Amzn-Trace-Id': 'Root=1-68a2c94f-1c73f3c267c57df84d48b003'}, 'origin': '49.36.182.14', 'url': 'https://httpbin.org/get?name=John&age=30'}\n"
     ]
    }
   ],
   "source": [
    "import requests\n",
    "\n",
    "url = 'https://httpbin.org/get'\n",
    "params = {'name': 'John', 'age': 30}\n",
    "# Your code here\n",
    "response = requests.get(url, params=params)\n",
    "\n",
    "print(\"Status code: \", response.status_code)\n",
    "print(\"Final URL:\", response.url)\n",
    "print(\"Response JSON: \", response.json())"
   ]
  },
  {
   "cell_type": "markdown",
   "id": "1ed08b54",
   "metadata": {},
   "source": [
    "## Exercise 6: POST Request with JSON\n",
    "POST to `https://httpbin.org/post` with JSON body: `{'username': 'test_user', 'password': '1234'}`"
   ]
  },
  {
   "cell_type": "code",
   "execution_count": 49,
   "id": "0b5107aa",
   "metadata": {},
   "outputs": [
    {
     "name": "stdout",
     "output_type": "stream",
     "text": [
      "{'args': {}, 'data': '{\"username\": \"test_user\", \"password\": \"1234\"}', 'files': {}, 'form': {}, 'headers': {'Accept': '*/*', 'Accept-Encoding': 'gzip, deflate, br, zstd', 'Content-Length': '45', 'Content-Type': 'application/json', 'Host': 'httpbin.org', 'User-Agent': 'python-requests/2.32.3', 'X-Amzn-Trace-Id': 'Root=1-68a2d080-6f73e99159193f4524a8c737'}, 'json': {'password': '1234', 'username': 'test_user'}, 'origin': '103.188.127.76', 'url': 'https://httpbin.org/post'}\n"
     ]
    }
   ],
   "source": [
    "import requests\n",
    "\n",
    "url = 'https://httpbin.org/post'\n",
    "data = {'username': 'test_user', 'password': '1234'}\n",
    "# Your code here\n",
    "response = requests.post(url, json=data)\n",
    "\n",
    "print(response.json())"
   ]
  },
  {
   "cell_type": "code",
   "execution_count": 45,
   "id": "38d84617",
   "metadata": {},
   "outputs": [
    {
     "name": "stdout",
     "output_type": "stream",
     "text": [
      "{'args': {}, 'data': '{\"username\": \"test_user\", \"password\": \"1234\"}', 'files': {}, 'form': {}, 'headers': {'Accept': '*/*', 'Accept-Encoding': 'gzip, deflate, br, zstd', 'Content-Length': '45', 'Content-Type': 'application/json', 'Host': 'httpbin.org', 'User-Agent': 'python-requests/2.32.3', 'X-Amzn-Trace-Id': 'Root=1-68a2cec1-1dcd7d9745df296c7d2d037d'}, 'json': {'password': '1234', 'username': 'test_user'}, 'origin': '103.188.127.76', 'url': 'https://httpbin.org/post'}\n"
     ]
    }
   ],
   "source": [
    "# ✅ Option 1: Send JSON body (preferred for APIs)\n",
    "import requests\n",
    "\n",
    "url = \"https://httpbin.org/post\"\n",
    "\n",
    "payload = {\n",
    "    \"username\": \"test_user\",\n",
    "    \"password\": \"1234\"\n",
    "}\n",
    "response = requests.post(url, json=payload)\n",
    "\n",
    "print(response.json())\n"
   ]
  },
  {
   "cell_type": "code",
   "execution_count": 46,
   "id": "763d9984",
   "metadata": {},
   "outputs": [
    {
     "name": "stdout",
     "output_type": "stream",
     "text": [
      "{'args': {}, 'data': '', 'files': {}, 'form': {'role': 'admin', 'user': 'alice'}, 'headers': {'Accept': '*/*', 'Accept-Encoding': 'gzip, deflate, br, zstd', 'Content-Length': '21', 'Content-Type': 'application/x-www-form-urlencoded', 'Host': 'httpbin.org', 'User-Agent': 'python-requests/2.32.3', 'X-Amzn-Trace-Id': 'Root=1-68a2cecd-36a4cbff7ddd015158cf5931'}, 'json': None, 'origin': '103.188.127.76', 'url': 'https://httpbin.org/post'}\n"
     ]
    }
   ],
   "source": [
    "# ✅ Option 2: Send Form Data\n",
    "import requests\n",
    "\n",
    "url = \"https://httpbin.org/post\"\n",
    "\n",
    "form_data = {\n",
    "    \"user\": \"alice\",\n",
    "    \"role\": \"admin\"\n",
    "}\n",
    "response = requests.post(url, data=form_data)\n",
    "\n",
    "print(response.json())\n"
   ]
  },
  {
   "cell_type": "code",
   "execution_count": 47,
   "id": "9bda22d0",
   "metadata": {},
   "outputs": [
    {
     "name": "stdout",
     "output_type": "stream",
     "text": [
      "{'args': {}, 'data': '', 'files': {}, 'form': {'extra': '{\"username\": \"test_user\", \"password\": \"1234\"}', 'user': 'alice'}, 'headers': {'Accept': '*/*', 'Accept-Encoding': 'gzip, deflate, br, zstd', 'Content-Length': '88', 'Content-Type': 'application/x-www-form-urlencoded', 'Host': 'httpbin.org', 'User-Agent': 'python-requests/2.32.3', 'X-Amzn-Trace-Id': 'Root=1-68a2cf1e-57c42de8610a7f0f178eac3a'}, 'json': None, 'origin': '103.188.127.76', 'url': 'https://httpbin.org/post'}\n"
     ]
    }
   ],
   "source": [
    "## ✅ Option 3: Send both (not common, but possible)\n",
    "import requests\n",
    "import json\n",
    "\n",
    "url = \"https://httpbin.org/post\"\n",
    "\n",
    "form_data = {\n",
    "    \"user\": \"alice\",\n",
    "    \"extra\": json.dumps({\"username\": \"test_user\", \"password\": \"1234\"})\n",
    "}\n",
    "\n",
    "response = requests.post(url, data=form_data)\n",
    "\n",
    "print(response.json())\n"
   ]
  },
  {
   "cell_type": "markdown",
   "id": "52fd4f9b",
   "metadata": {},
   "source": [
    "## Exercise 7: Handle Redirects\n",
    "Request `http://github.com` and check the final redirected URL."
   ]
  },
  {
   "cell_type": "code",
   "execution_count": 53,
   "id": "666d3d7d",
   "metadata": {},
   "outputs": [
    {
     "name": "stdout",
     "output_type": "stream",
     "text": [
      "final_url : https://github.com/\n",
      "status_code : 200\n"
     ]
    }
   ],
   "source": [
    "import requests\n",
    "\n",
    "url = 'http://github.com'\n",
    "# Your code here\n",
    "response = requests.get(url)\n",
    "\n",
    "final_url = response.url\n",
    "\n",
    "print(\"final_url :\", final_url)\n",
    "print(\"status_code :\", response.status_code)"
   ]
  },
  {
   "cell_type": "markdown",
   "id": "c2f44bd9",
   "metadata": {},
   "source": [
    "## Exercise 8: Download an Image\n",
    "Download the image from `https://httpbin.org/image/png` and save it as `downloaded.png`."
   ]
  },
  {
   "cell_type": "code",
   "execution_count": 56,
   "id": "85158597",
   "metadata": {},
   "outputs": [
    {
     "name": "stdout",
     "output_type": "stream",
     "text": [
      "Image saved as download.png\n"
     ]
    }
   ],
   "source": [
    "import requests\n",
    "\n",
    "url = 'https://httpbin.org/image/png'\n",
    "# Your code here\n",
    "filename = \"download.png\"\n",
    "\n",
    "response = requests.get(url)\n",
    "\n",
    "with open(filename, \"wb\") as f:\n",
    "    f.write(response.content)\n",
    "\n",
    "print(f\"Image saved as {filename}\")"
   ]
  },
  {
   "cell_type": "code",
   "execution_count": 54,
   "id": "37647188",
   "metadata": {},
   "outputs": [
    {
     "name": "stdout",
     "output_type": "stream",
     "text": [
      "Image saved as downloaded.png\n"
     ]
    }
   ],
   "source": [
    "import requests\n",
    "\n",
    "url = \"https://httpbin.org/image/png\"   # sample image\n",
    "filename = \"downloaded.png\"\n",
    "\n",
    "# Fetch image\n",
    "response = requests.get(url)\n",
    "\n",
    "# Save as file (in binary mode)\n",
    "with open(filename, \"wb\") as f:\n",
    "    f.write(response.content)\n",
    "\n",
    "print(f\"Image saved as {filename}\")\n"
   ]
  },
  {
   "cell_type": "code",
   "execution_count": 55,
   "id": "c9d3a5be",
   "metadata": {},
   "outputs": [
    {
     "name": "stdout",
     "output_type": "stream",
     "text": [
      "Image saved as downloaded.jpg\n"
     ]
    }
   ],
   "source": [
    "import requests\n",
    "\n",
    "url = \"https://httpbin.org/image/jpeg\"\n",
    "filename = \"downloaded.jpg\"\n",
    "\n",
    "with requests.get(url, stream=True) as r:\n",
    "    r.raise_for_status()\n",
    "    with open(filename, \"wb\") as f:\n",
    "        for chunk in r.iter_content(chunk_size=8192):\n",
    "            f.write(chunk)\n",
    "\n",
    "print(f\"Image saved as {filename}\")\n"
   ]
  },
  {
   "cell_type": "markdown",
   "id": "34dcdcc7",
   "metadata": {},
   "source": [
    "## Exercise 9: Scrape Links\n",
    "Fetch all `<a href=...>` links from `https://example.com`.\n",
    "(Hint: use `BeautifulSoup`)"
   ]
  },
  {
   "cell_type": "code",
   "execution_count": 61,
   "id": "8f7f76f9",
   "metadata": {},
   "outputs": [
    {
     "name": "stdout",
     "output_type": "stream",
     "text": [
      "Found links: \n",
      "https://www.iana.org/domains/example\n"
     ]
    }
   ],
   "source": [
    "import requests\n",
    "from bs4 import BeautifulSoup\n",
    "\n",
    "url = 'https://example.com'\n",
    "# Your code here\n",
    "response = requests.get(url)\n",
    "soup = BeautifulSoup(response.text, \"html.parser\")\n",
    "\n",
    "links = [a.get(\"href\") for a in soup.find_all(\"a\", href=True)]\n",
    "\n",
    "print(\"Found links: \")\n",
    "for link in links:\n",
    "    print(link)\n",
    "\n"
   ]
  },
  {
   "cell_type": "code",
   "execution_count": 59,
   "id": "474b78bb",
   "metadata": {},
   "outputs": [
    {
     "name": "stdout",
     "output_type": "stream",
     "text": [
      "Found links:\n",
      "https://www.iana.org/domains/example\n"
     ]
    }
   ],
   "source": [
    "import requests\n",
    "from bs4 import BeautifulSoup\n",
    "\n",
    "url = \"https://example.com\"\n",
    "\n",
    "# Fetch page\n",
    "response = requests.get(url)\n",
    "soup = BeautifulSoup(response.text, \"html.parser\")\n",
    "\n",
    "# Extract all <a> tags with href\n",
    "links = [a.get(\"href\") for a in soup.find_all(\"a\", href=True)]\n",
    "\n",
    "print(\"Found links:\")\n",
    "for link in links:\n",
    "    print(link)\n"
   ]
  },
  {
   "cell_type": "code",
   "execution_count": 58,
   "id": "e1241b30",
   "metadata": {},
   "outputs": [
    {
     "name": "stdout",
     "output_type": "stream",
     "text": [
      "Absolute links: ['https://www.iana.org/domains/example']\n"
     ]
    }
   ],
   "source": [
    "from urllib.parse import urljoin\n",
    "\n",
    "absolute_links = [urljoin(url, link) for link in links]\n",
    "print(\"Absolute links:\", absolute_links)\n"
   ]
  },
  {
   "cell_type": "markdown",
   "id": "8ca9a76f",
   "metadata": {},
   "source": [
    "## Exercise 10: Handle Errors\n",
    "Request a non-existing page and handle errors gracefully with `try-except`."
   ]
  },
  {
   "cell_type": "code",
   "execution_count": 30,
   "id": "ee413182",
   "metadata": {},
   "outputs": [],
   "source": [
    "import requests\n",
    "\n",
    "url = 'https://httpbin.org/status/404'\n",
    "# Your code here"
   ]
  },
  {
   "cell_type": "code",
   "execution_count": 62,
   "id": "6659051e",
   "metadata": {},
   "outputs": [
    {
     "name": "stdout",
     "output_type": "stream",
     "text": [
      "HTTP Error: 404 Client Error: NOT FOUND for url: https://httpbin.org/status/404\n"
     ]
    }
   ],
   "source": [
    "import requests\n",
    "\n",
    "url = \"https://httpbin.org/status/404\"  # non-existing page\n",
    "\n",
    "try:\n",
    "    response = requests.get(url)\n",
    "    response.raise_for_status()  # raises HTTPError for 4xx/5xx responses\n",
    "    print(\"Success:\", response.status_code)\n",
    "except requests.exceptions.HTTPError as e:\n",
    "    print(\"HTTP Error:\", e)\n",
    "except requests.exceptions.RequestException as e:\n",
    "    print(\"Request failed:\", e)\n"
   ]
  },
  {
   "cell_type": "code",
   "execution_count": 63,
   "id": "31e1a435",
   "metadata": {},
   "outputs": [
    {
     "name": "stdout",
     "output_type": "stream",
     "text": [
      "Request failed: HTTPSConnectionPool(host='httpbin.org', port=443): Max retries exceeded with url: /status/500 (Caused by ResponseError('too many 500 error responses'))\n"
     ]
    }
   ],
   "source": [
    "## Three times recheck\n",
    "import requests\n",
    "from requests.adapters import HTTPAdapter\n",
    "from urllib3.util.retry import Retry\n",
    "\n",
    "url = \"https://httpbin.org/status/500\"  # server error\n",
    "\n",
    "# Retry strategy\n",
    "retry_strategy = Retry(\n",
    "    total=3,                # retry up to 3 times\n",
    "    backoff_factor=1,       # wait 1s, then 2s, then 4s...\n",
    "    status_forcelist=[500, 502, 503, 504],\n",
    "    allowed_methods=[\"GET\", \"POST\"]\n",
    ")\n",
    "\n",
    "# Attach retry logic to a Session\n",
    "adapter = HTTPAdapter(max_retries=retry_strategy)\n",
    "session = requests.Session()\n",
    "session.mount(\"http://\", adapter)\n",
    "session.mount(\"https://\", adapter)\n",
    "\n",
    "try:\n",
    "    response = session.get(url)\n",
    "    response.raise_for_status()\n",
    "    print(\"Success:\", response.status_code)\n",
    "except requests.exceptions.HTTPError as e:\n",
    "    print(\"HTTP Error:\", e)\n",
    "except requests.exceptions.RequestException as e:\n",
    "    print(\"Request failed:\", e)\n"
   ]
  },
  {
   "cell_type": "code",
   "execution_count": null,
   "id": "d520b266",
   "metadata": {},
   "outputs": [],
   "source": []
  }
 ],
 "metadata": {
  "kernelspec": {
   "display_name": "base",
   "language": "python",
   "name": "python3"
  },
  "language_info": {
   "codemirror_mode": {
    "name": "ipython",
    "version": 3
   },
   "file_extension": ".py",
   "mimetype": "text/x-python",
   "name": "python",
   "nbconvert_exporter": "python",
   "pygments_lexer": "ipython3",
   "version": "3.13.5"
  }
 },
 "nbformat": 4,
 "nbformat_minor": 5
}
